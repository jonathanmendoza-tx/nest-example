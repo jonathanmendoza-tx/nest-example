{
 "cells": [
  {
   "cell_type": "markdown",
   "metadata": {},
   "source": [
    "# Nest Dataset"
   ]
  },
  {
   "cell_type": "markdown",
   "metadata": {},
   "source": [
    "## Imports"
   ]
  },
  {
   "cell_type": "code",
   "execution_count": 262,
   "metadata": {},
   "outputs": [],
   "source": [
    "%matplotlib inline\n",
    "import pandas as pd\n",
    "import matplotlib.pyplot as plt\n",
    "import numpy as np\n",
    "from sklearn.neighbors import LocalOutlierFactor\n",
    "from sklearn.ensemble import IsolationForest\n",
    "from sklearn.decomposition import PCA"
   ]
  },
  {
   "cell_type": "markdown",
   "metadata": {},
   "source": [
    "Consider how you would analyze a real-time IoT dataset. We have a Nest device under normal conditions. How would detect malicious or anomalous events from this data using machine learning models?\n",
    " \n",
    "Questions to consider for your analysis include:\n",
    "1. What type of model(s) would you choose and why?\n",
    "2. What kind of feature engineering would you want to do? Is there additional data you would want to capture?\n",
    "3. What would be needed to integrate your approach into the product's overall architecture?"
   ]
  },
  {
   "cell_type": "markdown",
   "metadata": {},
   "source": [
    "## Load Data"
   ]
  },
  {
   "cell_type": "code",
   "execution_count": 234,
   "metadata": {},
   "outputs": [
    {
     "name": "stdout",
     "output_type": "stream",
     "text": [
      "(5955, 7)\n"
     ]
    },
    {
     "data": {
      "text/html": [
       "<div>\n",
       "<style scoped>\n",
       "    .dataframe tbody tr th:only-of-type {\n",
       "        vertical-align: middle;\n",
       "    }\n",
       "\n",
       "    .dataframe tbody tr th {\n",
       "        vertical-align: top;\n",
       "    }\n",
       "\n",
       "    .dataframe thead th {\n",
       "        text-align: right;\n",
       "    }\n",
       "</style>\n",
       "<table border=\"1\" class=\"dataframe\">\n",
       "  <thead>\n",
       "    <tr style=\"text-align: right;\">\n",
       "      <th></th>\n",
       "      <th>No.</th>\n",
       "      <th>Time</th>\n",
       "      <th>Source</th>\n",
       "      <th>Destination</th>\n",
       "      <th>Protocol</th>\n",
       "      <th>Length</th>\n",
       "      <th>Info</th>\n",
       "    </tr>\n",
       "  </thead>\n",
       "  <tbody>\n",
       "    <tr>\n",
       "      <th>0</th>\n",
       "      <td>1</td>\n",
       "      <td>0.000000</td>\n",
       "      <td>74.125.138.95</td>\n",
       "      <td>10.0.0.169</td>\n",
       "      <td>TLSv1.2</td>\n",
       "      <td>111</td>\n",
       "      <td>Application Data</td>\n",
       "    </tr>\n",
       "    <tr>\n",
       "      <th>1</th>\n",
       "      <td>2</td>\n",
       "      <td>0.007024</td>\n",
       "      <td>10.0.0.169</td>\n",
       "      <td>74.125.138.95</td>\n",
       "      <td>TCP</td>\n",
       "      <td>66</td>\n",
       "      <td>58031  &gt;  443 [ACK] Seq=1 Ack=46 Win=406 Len=0 TSval=536764 TSecr=1926011217</td>\n",
       "    </tr>\n",
       "    <tr>\n",
       "      <th>2</th>\n",
       "      <td>3</td>\n",
       "      <td>0.291968</td>\n",
       "      <td>10.0.0.169</td>\n",
       "      <td>74.125.196.99</td>\n",
       "      <td>TCP</td>\n",
       "      <td>74</td>\n",
       "      <td>32864  &gt;  443 [SYN] Seq=0 Win=14600 Len=0 MSS=1460 SACK_PERM=1 TSval=536793 TSecr=0 WS=64</td>\n",
       "    </tr>\n",
       "    <tr>\n",
       "      <th>3</th>\n",
       "      <td>4</td>\n",
       "      <td>0.321301</td>\n",
       "      <td>74.125.196.99</td>\n",
       "      <td>10.0.0.169</td>\n",
       "      <td>TCP</td>\n",
       "      <td>74</td>\n",
       "      <td>443  &gt;  32864 [SYN, ACK] Seq=0 Ack=1 Win=65535 Len=0 MSS=1430 SACK_PERM=1 TSval=2990278218 TSecr=536793 WS=256</td>\n",
       "    </tr>\n",
       "    <tr>\n",
       "      <th>4</th>\n",
       "      <td>5</td>\n",
       "      <td>0.326030</td>\n",
       "      <td>10.0.0.169</td>\n",
       "      <td>74.125.196.99</td>\n",
       "      <td>TCP</td>\n",
       "      <td>66</td>\n",
       "      <td>32864  &gt;  443 [ACK] Seq=1 Ack=1 Win=14656 Len=0 TSval=536797 TSecr=2990278218</td>\n",
       "    </tr>\n",
       "  </tbody>\n",
       "</table>\n",
       "</div>"
      ],
      "text/plain": [
       "   No.      Time         Source    Destination Protocol  Length  \\\n",
       "0    1  0.000000  74.125.138.95     10.0.0.169  TLSv1.2     111   \n",
       "1    2  0.007024     10.0.0.169  74.125.138.95      TCP      66   \n",
       "2    3  0.291968     10.0.0.169  74.125.196.99      TCP      74   \n",
       "3    4  0.321301  74.125.196.99     10.0.0.169      TCP      74   \n",
       "4    5  0.326030     10.0.0.169  74.125.196.99      TCP      66   \n",
       "\n",
       "                                                                                                             Info  \n",
       "0                                                                                                Application Data  \n",
       "1                                    58031  >  443 [ACK] Seq=1 Ack=46 Win=406 Len=0 TSval=536764 TSecr=1926011217  \n",
       "2                       32864  >  443 [SYN] Seq=0 Win=14600 Len=0 MSS=1460 SACK_PERM=1 TSval=536793 TSecr=0 WS=64  \n",
       "3  443  >  32864 [SYN, ACK] Seq=0 Ack=1 Win=65535 Len=0 MSS=1430 SACK_PERM=1 TSval=2990278218 TSecr=536793 WS=256  \n",
       "4                                   32864  >  443 [ACK] Seq=1 Ack=1 Win=14656 Len=0 TSval=536797 TSecr=2990278218  "
      ]
     },
     "execution_count": 234,
     "metadata": {},
     "output_type": "execute_result"
    }
   ],
   "source": [
    "df = pd.read_csv('data/DeviceTraffic.csv')\n",
    "\n",
    "pd.set_option('display.max_colwidth', None)\n",
    "print(df.shape)\n",
    "df.head()"
   ]
  },
  {
   "cell_type": "markdown",
   "metadata": {},
   "source": [
    "## Thoughts about data"
   ]
  },
  {
   "cell_type": "markdown",
   "metadata": {},
   "source": [
    "possible features to engineer:\n",
    "\n",
    "    - change in time\n",
    "    - source port (first port in tcp header)\n",
    "    - destination port (second port in tcp header)\n",
    "    - Sequence number (Seq)\n",
    "    - Acknowledgement number (Ack)\n",
    "    - bytes in flight = Length - header\n",
    "        (66 bytes for header in this case)\n",
    "        resets when Ack == bytes in flight + previous Ack \n",
    "        \n",
    " features I'd like to see captured:\n",
    " \n",
    "    - User id of some sort (i.p. is ok, but many people can have access to one i.p.)"
   ]
  },
  {
   "cell_type": "markdown",
   "metadata": {},
   "source": [
    "## Feature Engineering"
   ]
  },
  {
   "cell_type": "code",
   "execution_count": 235,
   "metadata": {},
   "outputs": [
    {
     "name": "stderr",
     "output_type": "stream",
     "text": [
      "c:\\users\\jon_9\\.virtualenvs\\perigee-example-udd_95il\\lib\\site-packages\\pandas\\core\\indexing.py:670: SettingWithCopyWarning: \n",
      "A value is trying to be set on a copy of a slice from a DataFrame\n",
      "\n",
      "See the caveats in the documentation: https://pandas.pydata.org/pandas-docs/stable/user_guide/indexing.html#returning-a-view-versus-a-copy\n",
      "  iloc._setitem_with_indexer(indexer, value)\n"
     ]
    },
    {
     "data": {
      "text/html": [
       "<div>\n",
       "<style scoped>\n",
       "    .dataframe tbody tr th:only-of-type {\n",
       "        vertical-align: middle;\n",
       "    }\n",
       "\n",
       "    .dataframe tbody tr th {\n",
       "        vertical-align: top;\n",
       "    }\n",
       "\n",
       "    .dataframe thead th {\n",
       "        text-align: right;\n",
       "    }\n",
       "</style>\n",
       "<table border=\"1\" class=\"dataframe\">\n",
       "  <thead>\n",
       "    <tr style=\"text-align: right;\">\n",
       "      <th></th>\n",
       "      <th>No.</th>\n",
       "      <th>Time</th>\n",
       "      <th>Source</th>\n",
       "      <th>Destination</th>\n",
       "      <th>Protocol</th>\n",
       "      <th>Length</th>\n",
       "      <th>Info</th>\n",
       "      <th>Bytes</th>\n",
       "      <th>Source_port</th>\n",
       "      <th>Destination_port</th>\n",
       "      <th>Seq</th>\n",
       "      <th>Ack</th>\n",
       "      <th>Server_bytes</th>\n",
       "      <th>Client_bytes</th>\n",
       "      <th>Bytes_in_flight</th>\n",
       "      <th>Response_time</th>\n",
       "    </tr>\n",
       "  </thead>\n",
       "  <tbody>\n",
       "    <tr>\n",
       "      <th>0</th>\n",
       "      <td>1</td>\n",
       "      <td>0.000000</td>\n",
       "      <td>74.125.138.95</td>\n",
       "      <td>10.0.0.169</td>\n",
       "      <td>TLSv1.2</td>\n",
       "      <td>111</td>\n",
       "      <td>Application Data</td>\n",
       "      <td>45</td>\n",
       "      <td>0</td>\n",
       "      <td>0</td>\n",
       "      <td>0</td>\n",
       "      <td>0</td>\n",
       "      <td>0</td>\n",
       "      <td>0</td>\n",
       "      <td>0</td>\n",
       "      <td>0.000000</td>\n",
       "    </tr>\n",
       "    <tr>\n",
       "      <th>1</th>\n",
       "      <td>2</td>\n",
       "      <td>0.007024</td>\n",
       "      <td>10.0.0.169</td>\n",
       "      <td>74.125.138.95</td>\n",
       "      <td>TCP</td>\n",
       "      <td>66</td>\n",
       "      <td>58031  &gt;  443 [ACK] Seq=1 Ack=46 Win=406 Len=0 TSval=536764 TSecr=1926011217</td>\n",
       "      <td>0</td>\n",
       "      <td>58031</td>\n",
       "      <td>443</td>\n",
       "      <td>1</td>\n",
       "      <td>46</td>\n",
       "      <td>0</td>\n",
       "      <td>0</td>\n",
       "      <td>0</td>\n",
       "      <td>0.007024</td>\n",
       "    </tr>\n",
       "    <tr>\n",
       "      <th>2</th>\n",
       "      <td>3</td>\n",
       "      <td>0.291968</td>\n",
       "      <td>10.0.0.169</td>\n",
       "      <td>74.125.196.99</td>\n",
       "      <td>TCP</td>\n",
       "      <td>74</td>\n",
       "      <td>32864  &gt;  443 [SYN] Seq=0 Win=14600 Len=0 MSS=1460 SACK_PERM=1 TSval=536793 TSecr=0 WS=64</td>\n",
       "      <td>8</td>\n",
       "      <td>32864</td>\n",
       "      <td>443</td>\n",
       "      <td>0</td>\n",
       "      <td>0</td>\n",
       "      <td>8</td>\n",
       "      <td>0</td>\n",
       "      <td>8</td>\n",
       "      <td>0.284944</td>\n",
       "    </tr>\n",
       "    <tr>\n",
       "      <th>3</th>\n",
       "      <td>4</td>\n",
       "      <td>0.321301</td>\n",
       "      <td>74.125.196.99</td>\n",
       "      <td>10.0.0.169</td>\n",
       "      <td>TCP</td>\n",
       "      <td>74</td>\n",
       "      <td>443  &gt;  32864 [SYN, ACK] Seq=0 Ack=1 Win=65535 Len=0 MSS=1430 SACK_PERM=1 TSval=2990278218 TSecr=536793 WS=256</td>\n",
       "      <td>8</td>\n",
       "      <td>443</td>\n",
       "      <td>32864</td>\n",
       "      <td>0</td>\n",
       "      <td>1</td>\n",
       "      <td>0</td>\n",
       "      <td>8</td>\n",
       "      <td>8</td>\n",
       "      <td>0.029333</td>\n",
       "    </tr>\n",
       "    <tr>\n",
       "      <th>4</th>\n",
       "      <td>5</td>\n",
       "      <td>0.326030</td>\n",
       "      <td>10.0.0.169</td>\n",
       "      <td>74.125.196.99</td>\n",
       "      <td>TCP</td>\n",
       "      <td>66</td>\n",
       "      <td>32864  &gt;  443 [ACK] Seq=1 Ack=1 Win=14656 Len=0 TSval=536797 TSecr=2990278218</td>\n",
       "      <td>0</td>\n",
       "      <td>32864</td>\n",
       "      <td>443</td>\n",
       "      <td>1</td>\n",
       "      <td>1</td>\n",
       "      <td>0</td>\n",
       "      <td>0</td>\n",
       "      <td>0</td>\n",
       "      <td>0.004729</td>\n",
       "    </tr>\n",
       "  </tbody>\n",
       "</table>\n",
       "</div>"
      ],
      "text/plain": [
       "   No.      Time         Source    Destination Protocol  Length  \\\n",
       "0    1  0.000000  74.125.138.95     10.0.0.169  TLSv1.2     111   \n",
       "1    2  0.007024     10.0.0.169  74.125.138.95      TCP      66   \n",
       "2    3  0.291968     10.0.0.169  74.125.196.99      TCP      74   \n",
       "3    4  0.321301  74.125.196.99     10.0.0.169      TCP      74   \n",
       "4    5  0.326030     10.0.0.169  74.125.196.99      TCP      66   \n",
       "\n",
       "                                                                                                             Info  \\\n",
       "0                                                                                                Application Data   \n",
       "1                                    58031  >  443 [ACK] Seq=1 Ack=46 Win=406 Len=0 TSval=536764 TSecr=1926011217   \n",
       "2                       32864  >  443 [SYN] Seq=0 Win=14600 Len=0 MSS=1460 SACK_PERM=1 TSval=536793 TSecr=0 WS=64   \n",
       "3  443  >  32864 [SYN, ACK] Seq=0 Ack=1 Win=65535 Len=0 MSS=1430 SACK_PERM=1 TSval=2990278218 TSecr=536793 WS=256   \n",
       "4                                   32864  >  443 [ACK] Seq=1 Ack=1 Win=14656 Len=0 TSval=536797 TSecr=2990278218   \n",
       "\n",
       "   Bytes  Source_port  Destination_port  Seq  Ack  Server_bytes  Client_bytes  \\\n",
       "0     45            0                 0    0    0             0             0   \n",
       "1      0        58031               443    1   46             0             0   \n",
       "2      8        32864               443    0    0             8             0   \n",
       "3      8          443             32864    0    1             0             8   \n",
       "4      0        32864               443    1    1             0             0   \n",
       "\n",
       "   Bytes_in_flight  Response_time  \n",
       "0                0       0.000000  \n",
       "1                0       0.007024  \n",
       "2                8       0.284944  \n",
       "3                8       0.029333  \n",
       "4                0       0.004729  "
      ]
     },
     "execution_count": 235,
     "metadata": {},
     "output_type": "execute_result"
    }
   ],
   "source": [
    "# Instantiate lists and variables needed for feature engineering\n",
    "ack = []\n",
    "seq = []\n",
    "\n",
    "source_port = []\n",
    "destination_port = []\n",
    "\n",
    "client = '74.125.196.99'\n",
    "client_bytes = []\n",
    "client_seq = 0\n",
    "\n",
    "server = '10.0.0.169'\n",
    "server_bytes = []\n",
    "server_seq = 0\n",
    "\n",
    "df['Bytes'] = df['Length'] - 66\n",
    "\n",
    "for i in range(df.shape[0]):\n",
    "    # Extract relevant information from 'Info' column\n",
    "    info_str = df.loc[i]['Info']\n",
    "    info_list = info_str.split(' ')\n",
    "    \n",
    "    seq_ack = [string for string in info_list if ('Seq=' in string) or ('Ack=' in string)]\n",
    "    ports = [int(string) for string in info_list if string.isdigit()]\n",
    "    \n",
    "    # Build port lists\n",
    "    if len(ports) > 1:\n",
    "        source_port.append(ports[0])\n",
    "        destination_port.append(ports[1])\n",
    "        \n",
    "    else:\n",
    "        source_port.append(0)\n",
    "        destination_port.append(0)\n",
    "    \n",
    "    # Build sequence and acknowledgement lists\n",
    "    if len(seq_ack) == 0:\n",
    "        seq.append(0)\n",
    "        ack.append(0)\n",
    "    \n",
    "    if len(seq_ack) > 0:\n",
    "            \n",
    "        for string in seq_ack:\n",
    "            break_down = string.split('=')\n",
    "            \n",
    "            if break_down[0] == 'Seq':\n",
    "                seq.append(int(break_down[1]))\n",
    "                \n",
    "            if break_down[0] == 'Ack':\n",
    "                ack.append(int(break_down[1]))\n",
    "                \n",
    "        if len(seq) < len(ack):\n",
    "            seq.append(0)\n",
    "            \n",
    "        if len(ack) < len(seq):\n",
    "            ack.append(0)\n",
    "            \n",
    "    # Calculate bytes in flight for client and server side, build those lists\n",
    "    \n",
    "    # Client side byte calculations\n",
    "    if df['Source'].iloc[i] == client:\n",
    "        prev_client_seq = client_seq\n",
    "        \n",
    "        if seq[i] != 0:\n",
    "            client_seq = seq[i]\n",
    "            \n",
    "        if len(client_bytes) == 0:\n",
    "            client_bytes.append(df['Bytes'].iloc[i])\n",
    "            \n",
    "        else:\n",
    "            if seq[i] == 1:\n",
    "                client_bytes.append(df['Bytes'].iloc[i])\n",
    "            \n",
    "            else:\n",
    "                cbif = df['Bytes'].iloc[i] + client_bytes[i-1]\n",
    "                \n",
    "                if cbif + prev_client_seq == seq[i]:\n",
    "                    client_bytes.append(df['Bytes'].iloc[i])\n",
    "                    \n",
    "                else:\n",
    "                    client_bytes.append(cbif)\n",
    "                    \n",
    "    else:\n",
    "        client_bytes.append(0)\n",
    "\n",
    "    # Server side byte calculations\n",
    "    if df['Source'].iloc[i] == server:\n",
    "        prev_server_seq = server_seq\n",
    "        \n",
    "        if seq[i] != 0:\n",
    "            server_seq = seq[i]\n",
    "            \n",
    "        if len(server_bytes) == 0:\n",
    "            server_bytes.append(df['Bytes'].iloc[i])\n",
    "            \n",
    "        else:\n",
    "            if seq[i] == 1:\n",
    "                server_bytes.append(df['Bytes'].iloc[i])\n",
    "            \n",
    "            else:\n",
    "                sbif = df['Bytes'].iloc[i] + server_bytes[i-1]\n",
    "                \n",
    "                if sbif + prev_server_seq == seq[i]:\n",
    "                    server_bytes.append(df['Bytes'].iloc[i])\n",
    "                    \n",
    "                else:\n",
    "                    server_bytes.append(sbif)\n",
    "                    \n",
    "    else:\n",
    "        server_bytes.append(0)\n",
    "        \n",
    "# Create dataframe columns from lists \n",
    "df['Source_port'] = source_port\n",
    "df['Destination_port'] = destination_port\n",
    "\n",
    "df['Seq'] = seq\n",
    "df['Ack'] = ack\n",
    "        \n",
    "df['Server_bytes'] = server_bytes\n",
    "df['Client_bytes'] = client_bytes\n",
    "\n",
    "df['Bytes_in_flight'] = df['Server_bytes'] + df['Client_bytes']\n",
    "            \n",
    "df['Response_time'] = df['Time'].diff()\n",
    "df['Response_time'].iloc[0] = 0\n",
    "\n",
    "df.head()"
   ]
  },
  {
   "cell_type": "markdown",
   "metadata": {},
   "source": [
    "## Data Analysis"
   ]
  },
  {
   "cell_type": "code",
   "execution_count": 236,
   "metadata": {},
   "outputs": [
    {
     "data": {
      "image/png": "[encoded data removed]",
      "text/plain": [
       "<Figure size 1440x720 with 3 Axes>"
      ]
     },
     "metadata": {
      "needs_background": "light"
     },
     "output_type": "display_data"
    }
   ],
   "source": [
    "plt.rcParams[\"figure.figsize\"] = (20,10)\n",
    "\n",
    "fig, (ax1, ax2, ax3) = plt.subplots(3, 1)\n",
    "fig.suptitle('Data Packets Over Time')\n",
    "\n",
    "ax1.plot(df['Time'], df['Bytes_in_flight'], '-')\n",
    "ax1.set_ylabel('All Bytes in Flight')\n",
    "\n",
    "ax2.plot(df['Time'], df['Client_bytes'], '-')\n",
    "ax2.set_ylabel('Client Bytes')\n",
    "\n",
    "ax3.plot(df['Time'], df['Server_bytes'], '-')\n",
    "ax3.set_xlabel('Time')\n",
    "ax3.set_ylabel('Server bytes')\n",
    "\n",
    "plt.show()"
   ]
  },
  {
   "cell_type": "markdown",
   "metadata": {},
   "source": [
    "As expected, the server consists of the majority of the traffic observed in this set. A nest device will frequently be pinging the user or google servers to provide updates about its status and other meta-data. For the client-side, there is very little traffic, but there does appear to be an anomaly at the start of the service, indicated by a high data transfer rate. We can explore several techniques to see if this anomaly can be detected. \n",
    "\n",
    "There are a wide array of models which would be useful for this use-case, some of those are:\n",
    "    \n",
    "    - Neural networks (PyTorch or Tensorflow architechtures)\n",
    "    - Decision trees\n",
    "    - Clustering\n",
    "    - Facebook Prophet\n",
    "    \n",
    "Using unsupervised models may be best for the task, until there is enough labeled data to begin using supervised models. "
   ]
  },
  {
   "cell_type": "markdown",
   "metadata": {},
   "source": [
    "### Local Outlier Factor"
   ]
  },
  {
   "cell_type": "markdown",
   "metadata": {},
   "source": [
    "Using the Local Outlier Factor model, we can take advantage of the k-nearest neighbors algorithm. This gives us a measure of how closely related one point is to its k number of neighbors. Applying a threshold of 1200 bytes, I was able to leverage the model and isolate the anomalous data transaction. "
   ]
  },
  {
   "cell_type": "code",
   "execution_count": 247,
   "metadata": {},
   "outputs": [
    {
     "data": {
      "text/plain": [
       "<matplotlib.collections.PathCollection at 0x1cf37436d00>"
      ]
     },
     "execution_count": 247,
     "metadata": {},
     "output_type": "execute_result"
    },
    {
     "data": {
      "image/png": "[encoded data removed]",
      "text/plain": [
       "<Figure size 720x720 with 1 Axes>"
      ]
     },
     "metadata": {
      "needs_background": "light"
     },
     "output_type": "display_data"
    }
   ],
   "source": [
    "clf = LocalOutlierFactor(n_neighbors=20, contamination=0.01)\n",
    "y_pred = clf.fit_predict(df[['Client_bytes']])\n",
    "\n",
    "lof = pd.DataFrame(y_pred)\n",
    "\n",
    "plt.rcParams[\"figure.figsize\"] = (10,10)\n",
    "plt.scatter(df[(lof[0] < 0)&(df['Bytes_in_flight'] > 1200)]['Time'], df[(lof[0] < 0)&(df['Bytes_in_flight'] > 1200)]['Bytes_in_flight'])"
   ]
  },
  {
   "cell_type": "markdown",
   "metadata": {},
   "source": [
    "### Isolation Forest"
   ]
  },
  {
   "cell_type": "markdown",
   "metadata": {},
   "source": [
    "Using the Isolation Forest decision tree ensemble method, we are able to obtain a cleaner set of anomaly predictions, requiring no post-processing. Decision trees tend to be good baseline models, which we can use to evaluate the performance-cost tradeoff of the more expensive models. (i.e. neural network models can be time, computationally, and ultimately, financially expensive.) This model can be further refined, by using a permutation of Isolation Forest, called Extended Isolation forest."
   ]
  },
  {
   "cell_type": "code",
   "execution_count": 261,
   "metadata": {},
   "outputs": [
    {
     "data": {
      "text/plain": [
       "<matplotlib.collections.PathCollection at 0x1cf3a8e3f40>"
      ]
     },
     "execution_count": 261,
     "metadata": {},
     "output_type": "execute_result"
    },
    {
     "data": {
      "image/png": "[encoded data removed]",
      "text/plain": [
       "<Figure size 720x720 with 1 Axes>"
      ]
     },
     "metadata": {
      "needs_background": "light"
     },
     "output_type": "display_data"
    }
   ],
   "source": [
    "isoforest = IsolationForest(random_state=42, n_jobs=-1, contamination = 0.003)\n",
    "anomaly_pred = isoforest.fit_predict(df[['Client_bytes']])\n",
    "\n",
    "iso_df = pd.DataFrame(anomaly_pred)\n",
    "\n",
    "plt.rcParams[\"figure.figsize\"] = (10,10)\n",
    "plt.scatter(df[iso_df[0] < 0]['Time'], df[iso_df[0] < 0]['Bytes_in_flight'])"
   ]
  },
  {
   "cell_type": "code",
   "execution_count": null,
   "metadata": {},
   "outputs": [],
   "source": []
  }
 ],
 "metadata": {
  "kernelspec": {
   "display_name": "Python 3",
   "language": "python",
   "name": "python3"
  },
  "language_info": {
   "codemirror_mode": {
    "name": "ipython",
    "version": 3
   },
   "file_extension": ".py",
   "mimetype": "text/x-python",
   "name": "python",
   "nbconvert_exporter": "python",
   "pygments_lexer": "ipython3",
   "version": "3.8.6"
  }
 },
 "nbformat": 4,
 "nbformat_minor": 4
}
